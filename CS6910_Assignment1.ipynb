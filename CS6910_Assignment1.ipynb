{
  "nbformat": 4,
  "nbformat_minor": 0,
  "metadata": {
    "colab": {
      "name": "CS6910_Assignment1.ipynb",
      "provenance": [],
      "include_colab_link": true
    },
    "kernelspec": {
      "name": "python3",
      "display_name": "Python 3"
    },
    "language_info": {
      "name": "python"
    }
  },
  "cells": [
    {
      "cell_type": "markdown",
      "metadata": {
        "id": "view-in-github",
        "colab_type": "text"
      },
      "source": [
        "<a href=\"https://colab.research.google.com/github/moni6264/deeplearning_cs6910/blob/main/CS6910_Assignment1.ipynb\" target=\"_parent\"><img src=\"https://colab.research.google.com/assets/colab-badge.svg\" alt=\"Open In Colab\"/></a>"
      ]
    },
    {
      "cell_type": "code",
      "execution_count": 1,
      "metadata": {
        "id": "9l-P-RsIMmT1"
      },
      "outputs": [],
      "source": [
        "import numpy as np\n",
        "import pandas as pd\n",
        "from tensorflow.keras.datasets import mnist, fashion_mnist\n",
        "from sklearn.model_selection import train_test_split\n",
        "from sklearn.metrics import accuracy_score"
      ]
    },
    {
      "cell_type": "markdown",
      "source": [
        "Question 1 :Download the fashion-MNIST dataset and plot 1 sample image for each class as shown in the grid below. Use \"from keras.datasets import fashion_mnist\" for getting the fashion mnist dataset."
      ],
      "metadata": {
        "id": "nHoxdggiAWRT"
      }
    },
    {
      "cell_type": "code",
      "source": [
        "def prepare_dataset():\n",
        "    (X, y), (X_test, y_test) = fashion_mnist.load_data()\n",
        "\n",
        "    # Reshaping the data matrices\n",
        "    X = X.reshape(X.shape[0], -1)\n",
        "    X_test = X_test.reshape(X_test.shape[0], -1)\n",
        "\n",
        "    # Normalizing the pixel intensities\n",
        "    X = X/255.0\n",
        "    X_test = X_test/255.0\n",
        "    \n",
        "    \n",
        "    X_train, X_val, y_train, y_val = train_test_split(X, y, test_size=0.1, random_state=42)\n",
        "    \n",
        "    y_train_encode = np.zeros((10,y_train.shape[0]))\n",
        "    y_train_encode[y_train, np.array(list(range(y_train.shape[0])))] = 1\n",
        "\n",
        "\n",
        "    \n",
        "    \n",
        "    print(\"Number of examples in training set\")\n",
        "    print(X_train.shape)\n",
        "    print(y_train_encode.shape)\n",
        "    print(y_train.shape)\n",
        "    \n",
        "    print(\"No of examples in validation set\")\n",
        "    print(X_val.shape)\n",
        "    print(y_val.shape)\n",
        "    print(\"No of examples in test set\")\n",
        "    print(X_test.shape)\n",
        "    print(y_test.shape)\n",
        "    \n",
        "    return X_train.T, y_train_encode, y_train.T ,X_val.T, y_val.T, X_test.T, y_test.T\n",
        "\n",
        "\n",
        "X_train, y_train_encode, y_train ,X_val, y_val, X_test, y_test = prepare_dataset()"
      ],
      "metadata": {
        "id": "_wGhduubMw9h",
        "outputId": "377270c3-7436-49aa-ff63-b47f8eab6f9f",
        "colab": {
          "base_uri": "https://localhost:8080/"
        }
      },
      "execution_count": 2,
      "outputs": [
        {
          "output_type": "stream",
          "name": "stdout",
          "text": [
            "Downloading data from https://storage.googleapis.com/tensorflow/tf-keras-datasets/train-labels-idx1-ubyte.gz\n",
            "32768/29515 [=================================] - 0s 0us/step\n",
            "40960/29515 [=========================================] - 0s 0us/step\n",
            "Downloading data from https://storage.googleapis.com/tensorflow/tf-keras-datasets/train-images-idx3-ubyte.gz\n",
            "26427392/26421880 [==============================] - 0s 0us/step\n",
            "26435584/26421880 [==============================] - 0s 0us/step\n",
            "Downloading data from https://storage.googleapis.com/tensorflow/tf-keras-datasets/t10k-labels-idx1-ubyte.gz\n",
            "16384/5148 [===============================================================================================] - 0s 0us/step\n",
            "Downloading data from https://storage.googleapis.com/tensorflow/tf-keras-datasets/t10k-images-idx3-ubyte.gz\n",
            "4423680/4422102 [==============================] - 0s 0us/step\n",
            "4431872/4422102 [==============================] - 0s 0us/step\n",
            "Number of examples in training set\n",
            "(54000, 784)\n",
            "(10, 54000)\n",
            "(54000,)\n",
            "No of examples in validation set\n",
            "(6000, 784)\n",
            "(6000,)\n",
            "No of examples in test set\n",
            "(10000, 784)\n",
            "(10000,)\n"
          ]
        }
      ]
    },
    {
      "cell_type": "code",
      "source": [
        "def sigmoid(x):\n",
        "    return 1. / (1.+np.exp(-x))\n",
        "def relu(x):\n",
        "    return np.maximum(0,x)\n",
        "def tanh(x):\n",
        "    return 1.*(np.exp(x)+np.exp(-x))/(np.exp(x)-np.exp(-x))\n",
        "def softmax(x):\n",
        "    soft = np.zeros(x.shape)\n",
        "    for i in range(0, x.shape[1]):\n",
        "        numr = np.exp(x[:, i])\n",
        "        soft[:, i] = numr/np.sum(numr)\n",
        "    return soft\n",
        "\n",
        "\n",
        "#Derivatives of sigmoid function\n",
        "def sigmoid_derivative(x):\n",
        "    return sigmoid(x) * (1-sigmoid(x))\n",
        "def relu_derivative(x):\n",
        "    return 1*(x>0)\n",
        "def tanh_derivative(x):\n",
        "    return (1 - (np.tanh(x)**2))\n",
        "\n",
        "#Initialisation of parameters\n",
        "def initialize_parameters(input_layer, hidden_layer, output_layer,initilisation):\n",
        "    weights = []\n",
        "    biases  = []\n",
        "    layers = [input_layer] + hidden_layer + [output_layer]\n",
        "    for i in range(len(hidden_layer)+1):\n",
        "        if initilisation == 'random':\n",
        "            weights.append(np.random.rand(layers[i+1], layers[i])*0.01)\n",
        "        if initilisation == 'xavier':\n",
        "            weights.append(np.random.randn(layers[i+1],layers[i])*np.sqrt(2/layers[i+1]))\n",
        "        biases.append(np.random.randn(layers[i+1],1))\n",
        "    return weights, biases\n"
      ],
      "metadata": {
        "id": "JCRWxL9ZMxDH"
      },
      "execution_count": 3,
      "outputs": []
    },
    {
      "cell_type": "code",
      "source": [
        "import numpy as np\n",
        "from sklearn.metrics import mean_squared_error\n",
        "\n",
        "class ANN:\n",
        "\n",
        "    def __init__(self,n_inputs,n_hidden,n_outputs,initialisation, activation,loss):\n",
        "           \n",
        "        self.input_layer   = n_inputs\n",
        "        self.output_layer  = n_outputs\n",
        "        self.hidden_layer   = n_hidden\n",
        "        self.activation = activation\n",
        "        self.loss_function = loss\n",
        "        self.weights    = []\n",
        "        self.biases     = []\n",
        "        self.initialisation = initialisation\n",
        "        self.weights,self.biases = initialize_parameters(self.input_layer,self.hidden_layer,self.output_layer,self.initialisation)\n",
        "\n",
        "    \n",
        "    \n",
        "    #Forward Propogation code here\n",
        "    def forward_propagation(self,input):\n",
        " \n",
        "        self.A = []\n",
        "        self.H  = []\n",
        "        k=0\n",
        "       \n",
        "        self.A.append(np.dot(self.weights[k],input)+self.biases[k])\n",
        "        if self.activation == 'sigmoid':\n",
        "          self.H.append(sigmoid(self.A[k]))\n",
        "        elif self.activation == 'tanh':\n",
        "          self.H.append(tanh(self.A[k]))\n",
        "        elif self.activation == 'relu':\n",
        "          self.H.append(relu(self.A[k]))\n",
        "\n",
        "        for k in range(1,len(self.hidden_layer)):\n",
        "            self.A.append(np.dot(self.weights[k],self.H[k-1])+self.biases[k])\n",
        "            if self.activation == 'sigmoid':\n",
        "              self.H.append(sigmoid(self.A[k]))\n",
        "            elif self.activation == 'tanh':\n",
        "              self.H.append(tanh(self.A[k]))\n",
        "            elif self.activation == 'relu':\n",
        "              self.H.append(relu(self.A[k]))\n",
        " \n",
        "        k=len(self.hidden_layer)\n",
        "        self.A.append(np.matmul(self.weights[k],self.H[k-1])+self.biases[k])\n",
        "        self.H.append(softmax(self.A[k]))\n",
        "\n",
        "        return self.H[-1]\n",
        "\n",
        "\n",
        "     #Back propogation\n",
        "    def back_propagation(self,X_train,y_train):\n",
        "\n",
        "        g_a  = [0]*(len(self.hidden_layer)+1)\n",
        "        g_h  = [0]*(len(self.hidden_layer)+1)\n",
        "        g_w  = [0]*(len(self.weights))\n",
        "        g_b  = [0]*(len(self.biases))\n",
        "\n",
        "        n_samples = X_train.shape[1] \n",
        "\n",
        "        for k in reversed(range(len(self.hidden_layer)+1)):\n",
        "            if k == len(self.hidden_layer):\n",
        "              if self.loss_function == 'cross_entropy':\n",
        "                  g_a[k] = self.H[k]  - y_train  \n",
        "              elif self.loss_function == 'square_loss': \n",
        "                  g_a[k] = (self.H[k] - y_train) * self.H[k] * (1 - self.H[k]) \n",
        "                \n",
        "            else:\n",
        "                g_h[k] = (1/n_samples)*np.matmul(self.weights[k+1].T,g_a[k+1])\n",
        "                if self.activation == 'sigmoid':\n",
        "                  g_a[k] = (1/n_samples)*np.multiply(g_h[k],sigmoid_derivative(self.A[k]))\n",
        "                elif self.activation == 'tanh':\n",
        "                  g_a[k] = (1/n_samples)*np.multiply(g_h[k],tanh_derivative(self.A[k]))\n",
        "                elif self.activation == 'relu':\n",
        "                  g_a[k] = (1/n_samples)*np.multiply(g_h[k],relu_derivative(self.A[k]))\n",
        "                \n",
        "\n",
        "            if k == 0:\n",
        "                g_w[k] = (1/n_samples)*np.matmul(g_a[k],X_train.T) \n",
        "            else:\n",
        "                g_w[k] = (1/n_samples)*np.matmul(g_a[k],self.H[k-1].T)\n",
        "\n",
        "            g_b[k]  = (1/n_samples)*np.sum(g_a[k], axis=1, keepdims = True)\n",
        "        return g_w,g_b\n"
      ],
      "metadata": {
        "id": "XThPMeSPMxFO"
      },
      "execution_count": 4,
      "outputs": []
    },
    {
      "cell_type": "code",
      "source": [
        ""
      ],
      "metadata": {
        "id": "WVawwPLGMxHo"
      },
      "execution_count": null,
      "outputs": []
    },
    {
      "cell_type": "code",
      "source": [
        ""
      ],
      "metadata": {
        "id": "RBs--0RWMxKB"
      },
      "execution_count": null,
      "outputs": []
    }
  ]
}